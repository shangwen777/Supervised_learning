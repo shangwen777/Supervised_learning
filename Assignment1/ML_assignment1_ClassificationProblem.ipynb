{
 "cells": [
  {
   "cell_type": "code",
   "execution_count": 28,
   "id": "442a1a9a",
   "metadata": {},
   "outputs": [],
   "source": [
    "import numpy as np\n",
    "import pandas as pd\n",
    "import os\n",
    "from sklearn import tree\n",
    "import graphviz \n",
    "from sklearn.model_selection import train_test_split\n",
    "from sklearn import metrics\n",
    "import matplotlib.pyplot as plt"
   ]
  },
  {
   "cell_type": "code",
   "execution_count": 4,
   "id": "0cf79b7e",
   "metadata": {},
   "outputs": [],
   "source": [
    "from utils import load_mnist_trainval, load_mnist_test"
   ]
  },
  {
   "cell_type": "markdown",
   "id": "6d60ae65",
   "metadata": {},
   "source": [
    "# Loading Data"
   ]
  },
  {
   "cell_type": "code",
   "execution_count": 5,
   "id": "fffef28b",
   "metadata": {},
   "outputs": [
    {
     "name": "stdout",
     "output_type": "stream",
     "text": [
      "/Users/shangwenhuang/Documents/omscs_ML/Assignment1\n"
     ]
    }
   ],
   "source": [
    "path = os.getcwd()\n",
    "print(path)"
   ]
  },
  {
   "cell_type": "code",
   "execution_count": 8,
   "id": "2e11c330",
   "metadata": {},
   "outputs": [],
   "source": [
    "data = pd.read_csv(path + \"/data/Loan_prediction_dataset/train_loan_prediction.csv\")"
   ]
  },
  {
   "cell_type": "code",
   "execution_count": 9,
   "id": "024a703c",
   "metadata": {
    "scrolled": true
   },
   "outputs": [
    {
     "name": "stdout",
     "output_type": "stream",
     "text": [
      "<class 'pandas.core.frame.DataFrame'>\n",
      "RangeIndex: 614 entries, 0 to 613\n",
      "Data columns (total 13 columns):\n",
      " #   Column             Non-Null Count  Dtype  \n",
      "---  ------             --------------  -----  \n",
      " 0   Loan_ID            614 non-null    object \n",
      " 1   Gender             601 non-null    object \n",
      " 2   Married            611 non-null    object \n",
      " 3   Dependents         599 non-null    object \n",
      " 4   Education          614 non-null    object \n",
      " 5   Self_Employed      582 non-null    object \n",
      " 6   ApplicantIncome    614 non-null    int64  \n",
      " 7   CoapplicantIncome  614 non-null    float64\n",
      " 8   LoanAmount         592 non-null    float64\n",
      " 9   Loan_Amount_Term   600 non-null    float64\n",
      " 10  Credit_History     564 non-null    float64\n",
      " 11  Property_Area      614 non-null    object \n",
      " 12  Loan_Status        614 non-null    object \n",
      "dtypes: float64(4), int64(1), object(8)\n",
      "memory usage: 62.5+ KB\n"
     ]
    }
   ],
   "source": [
    "data.info()"
   ]
  },
  {
   "cell_type": "code",
   "execution_count": 10,
   "id": "bc6d5a99",
   "metadata": {},
   "outputs": [],
   "source": [
    "X = data[[\"Gender\", \"Married\", \"Dependents\", \"Education\", \"Self_Employed\", \"ApplicantIncome\"\n",
    "               ,\"CoapplicantIncome\", \"LoanAmount\", \"Loan_Amount_Term\", \"Credit_History\", \"Property_Area\"]]"
   ]
  },
  {
   "cell_type": "code",
   "execution_count": 11,
   "id": "c5f3245b",
   "metadata": {},
   "outputs": [],
   "source": [
    "Y = data[\"Loan_Status\"]"
   ]
  },
  {
   "cell_type": "code",
   "execution_count": 12,
   "id": "bf64c379",
   "metadata": {},
   "outputs": [
    {
     "data": {
      "text/html": [
       "<div>\n",
       "<style scoped>\n",
       "    .dataframe tbody tr th:only-of-type {\n",
       "        vertical-align: middle;\n",
       "    }\n",
       "\n",
       "    .dataframe tbody tr th {\n",
       "        vertical-align: top;\n",
       "    }\n",
       "\n",
       "    .dataframe thead th {\n",
       "        text-align: right;\n",
       "    }\n",
       "</style>\n",
       "<table border=\"1\" class=\"dataframe\">\n",
       "  <thead>\n",
       "    <tr style=\"text-align: right;\">\n",
       "      <th></th>\n",
       "      <th>ApplicantIncome</th>\n",
       "      <th>CoapplicantIncome</th>\n",
       "      <th>LoanAmount</th>\n",
       "      <th>Loan_Amount_Term</th>\n",
       "      <th>Credit_History</th>\n",
       "    </tr>\n",
       "  </thead>\n",
       "  <tbody>\n",
       "    <tr>\n",
       "      <th>count</th>\n",
       "      <td>614.000000</td>\n",
       "      <td>614.000000</td>\n",
       "      <td>592.000000</td>\n",
       "      <td>600.00000</td>\n",
       "      <td>564.000000</td>\n",
       "    </tr>\n",
       "    <tr>\n",
       "      <th>mean</th>\n",
       "      <td>5403.459283</td>\n",
       "      <td>1621.245798</td>\n",
       "      <td>146.412162</td>\n",
       "      <td>342.00000</td>\n",
       "      <td>0.842199</td>\n",
       "    </tr>\n",
       "    <tr>\n",
       "      <th>std</th>\n",
       "      <td>6109.041673</td>\n",
       "      <td>2926.248369</td>\n",
       "      <td>85.587325</td>\n",
       "      <td>65.12041</td>\n",
       "      <td>0.364878</td>\n",
       "    </tr>\n",
       "    <tr>\n",
       "      <th>min</th>\n",
       "      <td>150.000000</td>\n",
       "      <td>0.000000</td>\n",
       "      <td>9.000000</td>\n",
       "      <td>12.00000</td>\n",
       "      <td>0.000000</td>\n",
       "    </tr>\n",
       "    <tr>\n",
       "      <th>25%</th>\n",
       "      <td>2877.500000</td>\n",
       "      <td>0.000000</td>\n",
       "      <td>100.000000</td>\n",
       "      <td>360.00000</td>\n",
       "      <td>1.000000</td>\n",
       "    </tr>\n",
       "    <tr>\n",
       "      <th>50%</th>\n",
       "      <td>3812.500000</td>\n",
       "      <td>1188.500000</td>\n",
       "      <td>128.000000</td>\n",
       "      <td>360.00000</td>\n",
       "      <td>1.000000</td>\n",
       "    </tr>\n",
       "    <tr>\n",
       "      <th>75%</th>\n",
       "      <td>5795.000000</td>\n",
       "      <td>2297.250000</td>\n",
       "      <td>168.000000</td>\n",
       "      <td>360.00000</td>\n",
       "      <td>1.000000</td>\n",
       "    </tr>\n",
       "    <tr>\n",
       "      <th>max</th>\n",
       "      <td>81000.000000</td>\n",
       "      <td>41667.000000</td>\n",
       "      <td>700.000000</td>\n",
       "      <td>480.00000</td>\n",
       "      <td>1.000000</td>\n",
       "    </tr>\n",
       "  </tbody>\n",
       "</table>\n",
       "</div>"
      ],
      "text/plain": [
       "       ApplicantIncome  CoapplicantIncome  LoanAmount  Loan_Amount_Term  \\\n",
       "count       614.000000         614.000000  592.000000         600.00000   \n",
       "mean       5403.459283        1621.245798  146.412162         342.00000   \n",
       "std        6109.041673        2926.248369   85.587325          65.12041   \n",
       "min         150.000000           0.000000    9.000000          12.00000   \n",
       "25%        2877.500000           0.000000  100.000000         360.00000   \n",
       "50%        3812.500000        1188.500000  128.000000         360.00000   \n",
       "75%        5795.000000        2297.250000  168.000000         360.00000   \n",
       "max       81000.000000       41667.000000  700.000000         480.00000   \n",
       "\n",
       "       Credit_History  \n",
       "count      564.000000  \n",
       "mean         0.842199  \n",
       "std          0.364878  \n",
       "min          0.000000  \n",
       "25%          1.000000  \n",
       "50%          1.000000  \n",
       "75%          1.000000  \n",
       "max          1.000000  "
      ]
     },
     "execution_count": 12,
     "metadata": {},
     "output_type": "execute_result"
    }
   ],
   "source": [
    "X.describe()"
   ]
  },
  {
   "cell_type": "code",
   "execution_count": 13,
   "id": "634ecf23",
   "metadata": {},
   "outputs": [
    {
     "data": {
      "text/plain": [
       "Gender\n",
       "Male      489\n",
       "Female    112\n",
       "dtype: int64"
      ]
     },
     "execution_count": 13,
     "metadata": {},
     "output_type": "execute_result"
    }
   ],
   "source": [
    "X[['Gender']].value_counts()"
   ]
  },
  {
   "cell_type": "code",
   "execution_count": 14,
   "id": "9f609521",
   "metadata": {},
   "outputs": [
    {
     "data": {
      "text/plain": [
       "Married\n",
       "Yes        398\n",
       "No         213\n",
       "dtype: int64"
      ]
     },
     "execution_count": 14,
     "metadata": {},
     "output_type": "execute_result"
    }
   ],
   "source": [
    "X[['Married']].value_counts()"
   ]
  },
  {
   "cell_type": "code",
   "execution_count": 15,
   "id": "3cc7984f",
   "metadata": {},
   "outputs": [
    {
     "data": {
      "text/plain": [
       "Dependents\n",
       "0             345\n",
       "1             102\n",
       "2             101\n",
       "3+             51\n",
       "dtype: int64"
      ]
     },
     "execution_count": 15,
     "metadata": {},
     "output_type": "execute_result"
    }
   ],
   "source": [
    "X[['Dependents']].value_counts()"
   ]
  },
  {
   "cell_type": "code",
   "execution_count": 16,
   "id": "ea853ea5",
   "metadata": {},
   "outputs": [
    {
     "data": {
      "text/plain": [
       "Education   \n",
       "Graduate        480\n",
       "Not Graduate    134\n",
       "dtype: int64"
      ]
     },
     "execution_count": 16,
     "metadata": {},
     "output_type": "execute_result"
    }
   ],
   "source": [
    "X[['Education']].value_counts()"
   ]
  },
  {
   "cell_type": "code",
   "execution_count": 17,
   "id": "fa265682",
   "metadata": {},
   "outputs": [
    {
     "data": {
      "text/plain": [
       "Property_Area\n",
       "Semiurban        233\n",
       "Urban            202\n",
       "Rural            179\n",
       "dtype: int64"
      ]
     },
     "execution_count": 17,
     "metadata": {},
     "output_type": "execute_result"
    }
   ],
   "source": [
    "X[['Property_Area']].value_counts()"
   ]
  },
  {
   "cell_type": "code",
   "execution_count": 18,
   "id": "77a84f03",
   "metadata": {},
   "outputs": [
    {
     "data": {
      "text/plain": [
       "Self_Employed\n",
       "No               500\n",
       "Yes               82\n",
       "dtype: int64"
      ]
     },
     "execution_count": 18,
     "metadata": {},
     "output_type": "execute_result"
    }
   ],
   "source": [
    "X[['Self_Employed']].value_counts()"
   ]
  },
  {
   "cell_type": "code",
   "execution_count": 19,
   "id": "3e27d2e3",
   "metadata": {},
   "outputs": [
    {
     "data": {
      "text/plain": [
       "Y    422\n",
       "N    192\n",
       "Name: Loan_Status, dtype: int64"
      ]
     },
     "execution_count": 19,
     "metadata": {},
     "output_type": "execute_result"
    }
   ],
   "source": [
    "Y.value_counts()"
   ]
  },
  {
   "cell_type": "code",
   "execution_count": 20,
   "id": "bea41cd0",
   "metadata": {},
   "outputs": [],
   "source": [
    "X = pd.get_dummies(X, columns = ['Gender','Married','Dependents','Education','Property_Area','Self_Employed'])"
   ]
  },
  {
   "cell_type": "code",
   "execution_count": 21,
   "id": "c97f4ea4",
   "metadata": {},
   "outputs": [],
   "source": [
    "X.fillna(0, inplace = True)"
   ]
  },
  {
   "cell_type": "code",
   "execution_count": 22,
   "id": "6a7b2be3",
   "metadata": {},
   "outputs": [],
   "source": [
    "X_train, X_test, y_train, y_test = train_test_split(X, Y, test_size = 0.3, random_state = 1)"
   ]
  },
  {
   "cell_type": "code",
   "execution_count": 24,
   "id": "8fd7aac1",
   "metadata": {},
   "outputs": [
    {
     "data": {
      "text/plain": [
       "(429, 20)"
      ]
     },
     "execution_count": 24,
     "metadata": {},
     "output_type": "execute_result"
    }
   ],
   "source": [
    "X_train.shape"
   ]
  },
  {
   "cell_type": "code",
   "execution_count": 762,
   "id": "93b892dd",
   "metadata": {},
   "outputs": [
    {
     "ename": "ImportError",
     "evalue": "cannot import name 'load_csv' from 'utils' (/Users/shangwenhuang/Documents/omscs_ML/Assignment1/utils.py)",
     "output_type": "error",
     "traceback": [
      "\u001b[0;31m---------------------------------------------------------------------------\u001b[0m",
      "\u001b[0;31mImportError\u001b[0m                               Traceback (most recent call last)",
      "Input \u001b[0;32mIn [762]\u001b[0m, in \u001b[0;36m<cell line: 1>\u001b[0;34m()\u001b[0m\n\u001b[0;32m----> 1\u001b[0m \u001b[38;5;28;01mfrom\u001b[39;00m \u001b[38;5;21;01mutils\u001b[39;00m \u001b[38;5;28;01mimport\u001b[39;00m load_csv, load_mnist_trainval, load_mnist_test\n",
      "\u001b[0;31mImportError\u001b[0m: cannot import name 'load_csv' from 'utils' (/Users/shangwenhuang/Documents/omscs_ML/Assignment1/utils.py)"
     ]
    }
   ],
   "source": [
    "from utils import load_csv, load_mnist_trainval, load_mnist_test"
   ]
  },
  {
   "cell_type": "code",
   "execution_count": null,
   "id": "27b2c884",
   "metadata": {},
   "outputs": [],
   "source": []
  },
  {
   "cell_type": "markdown",
   "id": "5438fe63",
   "metadata": {},
   "source": [
    "# Exp1: Decision tree without pruning"
   ]
  },
  {
   "cell_type": "code",
   "execution_count": 93,
   "id": "c3ec7a71",
   "metadata": {},
   "outputs": [],
   "source": [
    "clf = tree.DecisionTreeClassifier()\n",
    "clf = clf.fit(X_train, y_train)"
   ]
  },
  {
   "cell_type": "code",
   "execution_count": 94,
   "id": "e4fafff9",
   "metadata": {},
   "outputs": [],
   "source": [
    "dot_data = tree.export_graphviz(clf, out_file = None,\n",
    "                               feature_names = list(X.columns),\n",
    "                                class_names = [\"Y\", \"N\"],\n",
    "                                filled = True, rounded = True,\n",
    "                                special_characters = True)\n",
    "graph = graphviz.Source(dot_data)"
   ]
  },
  {
   "cell_type": "code",
   "execution_count": 95,
   "id": "0b6728a2",
   "metadata": {},
   "outputs": [
    {
     "data": {
      "text/plain": [
       "'img/decision_tree_exp1.pdf'"
      ]
     },
     "execution_count": 95,
     "metadata": {},
     "output_type": "execute_result"
    }
   ],
   "source": [
    "graph.render(filename='img/decision_tree_exp1')"
   ]
  },
  {
   "cell_type": "code",
   "execution_count": 98,
   "id": "4c3cce13",
   "metadata": {},
   "outputs": [
    {
     "name": "stdout",
     "output_type": "stream",
     "text": [
      "Accuracy: 0.7243243243243244\n"
     ]
    }
   ],
   "source": [
    "y_pred = clf.predict(X_test)\n",
    "print(\"Accuracy:\", metrics.accuracy_score(y_test, y_pred))"
   ]
  },
  {
   "cell_type": "markdown",
   "id": "30e4f0db",
   "metadata": {},
   "source": [
    "### Exp1.1: Decision tree with prunning"
   ]
  },
  {
   "cell_type": "code",
   "execution_count": 29,
   "id": "7dc3cbe0",
   "metadata": {},
   "outputs": [
    {
     "data": {
      "image/png": "[encoded data removed]",
      "text/plain": [
       "<Figure size 720x432 with 1 Axes>"
      ]
     },
     "metadata": {
      "needs_background": "light"
     },
     "output_type": "display_data"
    }
   ],
   "source": [
    "acc = []\n",
    "for i in range(1,40):\n",
    "    clf = tree.DecisionTreeClassifier(criterion = \"entropy\", max_depth = i)\n",
    "    clf = clf.fit(X_train, y_train)\n",
    "    y_pred = clf.predict(X_test)\n",
    "    acc.append(metrics.accuracy_score(y_test, y_pred))\n",
    "plt.figure(figsize=(10,6))\n",
    "plt.plot(range(1,40),acc,color='blue',linestyle='dashed', marker='o',markerfacecolor='red',markersize=10)\n",
    "plt.title('Accuracy vs. Tree depth')\n",
    "plt.xlabel('L')\n",
    "plt.ylabel('Accuracy')\n",
    "plt.show()"
   ]
  },
  {
   "cell_type": "code",
   "execution_count": 30,
   "id": "64f01c75",
   "metadata": {},
   "outputs": [
    {
     "data": {
      "text/plain": [
       "[0.772972972972973,\n",
       " 0.772972972972973,\n",
       " 0.7675675675675676,\n",
       " 0.7837837837837838,\n",
       " 0.7783783783783784,\n",
       " 0.7297297297297297,\n",
       " 0.7297297297297297,\n",
       " 0.7351351351351352,\n",
       " 0.7135135135135136,\n",
       " 0.7081081081081081,\n",
       " 0.7081081081081081,\n",
       " 0.6864864864864865,\n",
       " 0.7135135135135136,\n",
       " 0.7081081081081081,\n",
       " 0.6972972972972973,\n",
       " 0.6972972972972973,\n",
       " 0.6918918918918919,\n",
       " 0.6702702702702703,\n",
       " 0.6810810810810811,\n",
       " 0.6756756756756757,\n",
       " 0.6594594594594595,\n",
       " 0.6810810810810811,\n",
       " 0.6810810810810811,\n",
       " 0.6756756756756757,\n",
       " 0.6594594594594595,\n",
       " 0.6810810810810811,\n",
       " 0.7027027027027027,\n",
       " 0.6702702702702703,\n",
       " 0.6756756756756757,\n",
       " 0.6864864864864865,\n",
       " 0.6648648648648648,\n",
       " 0.6864864864864865,\n",
       " 0.6972972972972973,\n",
       " 0.6756756756756757,\n",
       " 0.6594594594594595,\n",
       " 0.6810810810810811,\n",
       " 0.6972972972972973,\n",
       " 0.6864864864864865,\n",
       " 0.6864864864864865]"
      ]
     },
     "execution_count": 30,
     "metadata": {},
     "output_type": "execute_result"
    }
   ],
   "source": [
    "acc"
   ]
  },
  {
   "cell_type": "markdown",
   "id": "abbd6c3e",
   "metadata": {},
   "source": [
    "# Exp2: Neural Network"
   ]
  },
  {
   "cell_type": "code",
   "execution_count": 701,
   "id": "73e8ddb2",
   "metadata": {},
   "outputs": [],
   "source": [
    "import torch\n",
    "import torch.nn as nn\n",
    "from torch.nn import functional as F\n",
    "import time\n",
    "import random\n",
    "from torch.utils.data import Dataset, DataLoader\n",
    "import copy"
   ]
  },
  {
   "cell_type": "code",
   "execution_count": 702,
   "id": "7a32a5ac",
   "metadata": {},
   "outputs": [],
   "source": [
    "class CustomDataset(Dataset):\n",
    "    def __init__(self, X, y):\n",
    "        self.inputs = torch.tensor(X.to_numpy())\n",
    "        self.target = torch.tensor(np.where(y == \"Y\", 1, 0))\n",
    "        \n",
    "    def __len__(self):\n",
    "        return len(self.target)\n",
    "    \n",
    "    def __getitem__(self, idx):\n",
    "        inputs = self.inputs[idx]\n",
    "        target = self.target[idx]\n",
    "        return inputs, target"
   ]
  },
  {
   "cell_type": "code",
   "execution_count": 703,
   "id": "cdffb68e",
   "metadata": {},
   "outputs": [],
   "source": [
    "train_dataset = CustomDataset(X_train, y_train)\n",
    "test_dataset = CustomDataset(X_test, y_test)"
   ]
  },
  {
   "cell_type": "code",
   "execution_count": 704,
   "id": "11be2738",
   "metadata": {},
   "outputs": [],
   "source": [
    "training_loader = torch.utils.data.DataLoader(train_dataset, batch_size=128, shuffle=True)\n",
    "validation_loader = torch.utils.data.DataLoader(test_dataset, batch_size=128, shuffle=False)"
   ]
  },
  {
   "cell_type": "code",
   "execution_count": 705,
   "id": "47257dd8",
   "metadata": {},
   "outputs": [],
   "source": [
    "# defining the network\n",
    "class Net(nn.Module):\n",
    "    def __init__(self, n_input):\n",
    "        super(Net, self).__init__()\n",
    "        self.fc1 = nn.Linear(n_input, 32)\n",
    "        self.fc2 = nn.Linear(32, 1)\n",
    "  \n",
    "        \n",
    "    def forward(self, x):\n",
    "        x = torch.relu(self.fc1(x))\n",
    "        x = torch.sigmoid(self.fc2(x))\n",
    "        return x"
   ]
  },
  {
   "cell_type": "code",
   "execution_count": 706,
   "id": "2355e676",
   "metadata": {},
   "outputs": [
    {
     "name": "stdout",
     "output_type": "stream",
     "text": [
      "[INFO] training using cpu...\n"
     ]
    }
   ],
   "source": [
    "DEVICE = \"cuda\" if torch.cuda.is_available() else \"cpu\"\n",
    "print(\"[INFO] training using {}...\".format(DEVICE))"
   ]
  },
  {
   "cell_type": "code",
   "execution_count": 721,
   "id": "75f3609d",
   "metadata": {},
   "outputs": [],
   "source": [
    "#hyper parameters\n",
    "learning_rate = 0.01\n",
    "batch_size = 128\n",
    "epochs = 10\n",
    "# Model, Optimizer, Loss\n",
    "model = Net(n_input = X_train_array.shape[1])\n",
    "loss_function = nn.MSELoss()\n",
    "optimizer = torch.optim.SGD(model.parameters(), lr=learning_rate)"
   ]
  },
  {
   "cell_type": "code",
   "execution_count": 722,
   "id": "3314458b",
   "metadata": {},
   "outputs": [],
   "source": [
    "def train(epoch, training_loader, model, optimizer, debug=True):\n",
    "    epoch_loss = 0.0\n",
    "    hits = 0\n",
    "    count_samples = 0\n",
    "    \n",
    "    for idx, data in enumerate(training_loader):\n",
    "        inputs, target = data\n",
    "        \n",
    "        # Zero gradients for every batch\n",
    "        optimizer.zero_grad()\n",
    "        \n",
    "        # Make predictions for this batch\n",
    "        start_time = time.time()\n",
    "        pred = model(inputs.float())\n",
    "        \n",
    "        # Compute the loss and its gradients\n",
    "        loss = loss_function(pred, target.float())\n",
    "        loss.backward()\n",
    "        \n",
    "        # Adjust learning weights\n",
    "        optimizer.step()\n",
    "        \n",
    "        # Compute accuracy\n",
    "        correct = (pred > 0.5) == target.reshape(-1,1)\n",
    "        accuracy = correct.sum()/len(target)\n",
    "        \n",
    "\n",
    "        \n",
    "        epoch_loss += loss\n",
    "        hits += accuracy * len(target) #count of accurate prediction\n",
    "        count_samples += len(target)   # count of total sample data have been trained on\n",
    "        \n",
    "        forward_time = time.time() - start_time\n",
    "        if idx % 1 == 0 and debug:\n",
    "            print(('Epoch: [{0}][{1}/{2}]\\t'\n",
    "                  'Batch Time {batch_time:.3f} \\t'\n",
    "                  'Batch Loss {loss:.4f}\\t'\n",
    "                  'Train Accuracy' + \"{accuracy:.4f}\" '\\t').format(\n",
    "            epoch, idx, training_loader.__len__(), batch_time = forward_time, loss = loss, accuracy = accuracy))\n",
    "            \n",
    "    epoch_loss /= training_loader.__len__()\n",
    "    epoch_acc = hits / count_samples\n",
    "    return epoch_loss, epoch_acc\n",
    "        "
   ]
  },
  {
   "cell_type": "code",
   "execution_count": 723,
   "id": "b87f100c",
   "metadata": {},
   "outputs": [],
   "source": [
    "def evaluate(validation_loader, model, debug=True):\n",
    "    epoch_loss = 0.0\n",
    "    hits = 0\n",
    "    count_samples = 0.0\n",
    "    for idx, data in enumerate(validation_loader):\n",
    "        inputs, target = data\n",
    "        pred = model(inputs.float())\n",
    "        loss = loss_function(pred, target)\n",
    "        correct = (pred > 0.5) == target.reshape(-1,1)\n",
    "        accuracy = correct.sum()/len(target)\n",
    "        \n",
    "        epoch_loss += loss\n",
    "        hits += accuracy * len(target)\n",
    "        count_samples += len(target)\n",
    "        if debug:\n",
    "            print(('Evaluate: [{0}/{1}]\\t'\n",
    "                  'Batch Accuracy' + \"{accuracy:.4f}\" '\\t').format(\n",
    "            idx, validation_loader.__len__(), accuracy=accuracy))\n",
    "            \n",
    "    epoch_loss /= validation_loader.__len__()\n",
    "    epoch_acc = hits / count_samples\n",
    "\n",
    "    return epoch_loss, epoch_acc"
   ]
  },
  {
   "cell_type": "code",
   "execution_count": 724,
   "id": "cb08f4a6",
   "metadata": {},
   "outputs": [],
   "source": [
    "def plot_curves(train_loss_history, train_acc_history, valid_loss_history, valid_acc_history):\n",
    "    \"\"\"\n",
    "    Plot learning curves with matplotlib. Make sure training loss and validation loss are plot in the same figure and\n",
    "    training accuracy and validation accuracy are plot in the same figure too.\n",
    "    :param train_loss_history: training loss history of epochs\n",
    "    :param train_acc_history: training accuracy history of epochs\n",
    "    :param valid_loss_history: validation loss history of epochs\n",
    "    :param valid_acc_history: validation accuracy history of epochs\n",
    "    :return: None, save two figures in the current directory\n",
    "    \"\"\"\n",
    "    \n",
    "    print(train_acc_history)\n",
    "    print(valid_acc_history)\n",
    "    print(train_loss_history)\n",
    "    print(valid_loss_history)\n",
    "    epochs = range(1, 11)\n",
    "    f = plt.figure(1)\n",
    "    plt.plot(epochs, train_loss_history, 'g', label = 'Training loss')\n",
    "    plt.plot(epochs, valid_loss_history, 'b', label = 'Validation loss')\n",
    "    plt.title('Training and Validation loss')\n",
    "    plt.xlabel('Epochs')\n",
    "    plt.ylabel('Loss')\n",
    "    plt.legend()\n",
    "    f.show()\n",
    "    plt.savefig('Loss.png')\n",
    "    \n",
    "    g = plt.figure(2)\n",
    "    plt.plot(epochs, train_acc_history, 'g', label = 'Training accuracy')\n",
    "    plt.plot(epochs, valid_acc_history, 'b', label = 'Validation accuracy')\n",
    "    plt.title('Training and Validation accuracy')\n",
    "    plt.xlabel('Epochs')\n",
    "    plt.ylabel('Accuracy')\n",
    "    plt.legend()\n",
    "    g.show()\n",
    "    plt.savefig('Accuracy.png')"
   ]
  },
  {
   "cell_type": "code",
   "execution_count": 725,
   "id": "923a84a9",
   "metadata": {},
   "outputs": [],
   "source": [
    "def main():\n",
    "    train_loss_history, train_acc_history, valid_loss_history, valid_acc_history = run()\n",
    "\n",
    "    plot_curves(train_loss_history, train_acc_history, valid_loss_history, valid_acc_history)"
   ]
  },
  {
   "cell_type": "code",
   "execution_count": 726,
   "id": "e6e7015d",
   "metadata": {},
   "outputs": [],
   "source": [
    "def run():\n",
    "    train_loss_history = []\n",
    "    train_acc_history = []\n",
    "    valid_loss_history = []\n",
    "    valid_acc_history = []\n",
    "    best_acc = 0.0\n",
    "    best_model = None\n",
    "    for epoch in range(epochs):\n",
    "        \n",
    "        # Make sure gradient tracking is on, and do a pass over the data\n",
    "        model.train(True)\n",
    "        epoch_loss, epoch_acc = train(epoch, training_loader, model, optimizer, debug=True)\n",
    "        \n",
    "        epoch_loss = epoch_loss.detach().numpy()\n",
    "        \n",
    "        train_loss_history.append(epoch_loss)\n",
    "        train_acc_history.append(epoch_acc)\n",
    "        \n",
    "        # We don't need gradients to do reporting\n",
    "        model.train(False)\n",
    "        \n",
    "        #evaluate on test data\n",
    "        valid_loss, valid_acc = evaluate(validation_loader, model, debug=True)\n",
    "        \n",
    "        valid_loss = valid_loss.detach().numpy()\n",
    "       \n",
    "        print(\"* Validation Accuracy: {accuracy:.4f}\".format(accuracy=valid_acc))\n",
    "            \n",
    "        valid_loss_history.append(valid_loss)\n",
    "        valid_acc_history.append(valid_acc)\n",
    "        \n",
    "        if valid_acc > best_acc:\n",
    "            best_acc = valid_acc\n",
    "            best_model = copy.deepcopy(model)\n",
    "            \n",
    "\n",
    "    _, test_acc = evaluate(validation_loader, best_model, debug=True)\n",
    "    \n",
    "    print(\"Final Accuracy on Test Data: {accuracy:.4f}\".format(accuracy=test_acc))\n",
    "\n",
    "    return train_loss_history, train_acc_history, valid_loss_history, valid_acc_history\n",
    "            \n",
    "        "
   ]
  },
  {
   "cell_type": "code",
   "execution_count": 727,
   "id": "df06d685",
   "metadata": {},
   "outputs": [
    {
     "name": "stdout",
     "output_type": "stream",
     "text": [
      "Epoch: [0][0/4]\tBatch Time 0.004 \tBatch Loss 0.7031\tTrain Accuracy0.2969\t\n",
      "Epoch: [0][1/4]\tBatch Time 0.002 \tBatch Loss 0.6719\tTrain Accuracy0.3281\t\n",
      "Epoch: [0][2/4]\tBatch Time 0.001 \tBatch Loss 0.7031\tTrain Accuracy0.2969\t\n",
      "Epoch: [0][3/4]\tBatch Time 0.001 \tBatch Loss 0.7111\tTrain Accuracy0.2889\t\n",
      "Evaluate: [0/2]\tBatch Accuracy0.3359\t\n",
      "Evaluate: [1/2]\tBatch Accuracy0.3158\t\n",
      "* Validation Accuracy: 0.3297\n",
      "Epoch: [1][0/4]\tBatch Time 0.001 \tBatch Loss 0.6953\tTrain Accuracy0.3047\t\n",
      "Epoch: [1][1/4]\tBatch Time 0.001 \tBatch Loss 0.6797\tTrain Accuracy0.3203\t\n",
      "Epoch: [1][2/4]\tBatch Time 0.001 \tBatch Loss 0.7188\tTrain Accuracy0.2812\t\n",
      "Epoch: [1][3/4]\tBatch Time 0.001 \tBatch Loss 0.6667\tTrain Accuracy0.3333\t\n",
      "Evaluate: [0/2]\tBatch Accuracy0.3359\t\n",
      "Evaluate: [1/2]\tBatch Accuracy0.3158\t\n",
      "* Validation Accuracy: 0.3297\n",
      "Epoch: [2][0/4]\tBatch Time 0.001 \tBatch Loss 0.6797\tTrain Accuracy0.3203\t\n",
      "Epoch: [2][1/4]\tBatch Time 0.001 \tBatch Loss 0.6797\tTrain Accuracy0.3203\t\n",
      "Epoch: [2][2/4]\tBatch Time 0.001 \tBatch Loss 0.6953\tTrain Accuracy0.3047\t\n",
      "Epoch: [2][3/4]\tBatch Time 0.001 \tBatch Loss 0.7778\tTrain Accuracy0.2222\t\n",
      "Evaluate: [0/2]\tBatch Accuracy0.3359\t\n",
      "Evaluate: [1/2]\tBatch Accuracy0.3158\t\n",
      "* Validation Accuracy: 0.3297\n",
      "Epoch: [3][0/4]\tBatch Time 0.001 \tBatch Loss 0.6562\tTrain Accuracy0.3438\t\n",
      "Epoch: [3][1/4]\tBatch Time 0.001 \tBatch Loss 0.7422\tTrain Accuracy0.2578\t\n",
      "Epoch: [3][2/4]\tBatch Time 0.001 \tBatch Loss 0.7500\tTrain Accuracy0.2500\t\n",
      "Epoch: [3][3/4]\tBatch Time 0.000 \tBatch Loss 0.5111\tTrain Accuracy0.4889\t\n",
      "Evaluate: [0/2]\tBatch Accuracy0.3359\t\n",
      "Evaluate: [1/2]\tBatch Accuracy0.3158\t\n",
      "* Validation Accuracy: 0.3297\n",
      "Epoch: [4][0/4]\tBatch Time 0.001 \tBatch Loss 0.7500\tTrain Accuracy0.2500\t\n",
      "Epoch: [4][1/4]\tBatch Time 0.000 \tBatch Loss 0.7031\tTrain Accuracy0.2969\t\n",
      "Epoch: [4][2/4]\tBatch Time 0.001 \tBatch Loss 0.6562\tTrain Accuracy0.3438\t\n",
      "Epoch: [4][3/4]\tBatch Time 0.000 \tBatch Loss 0.6222\tTrain Accuracy0.3778\t\n",
      "Evaluate: [0/2]\tBatch Accuracy0.3359\t\n",
      "Evaluate: [1/2]\tBatch Accuracy0.3158\t\n",
      "* Validation Accuracy: 0.3297\n",
      "Epoch: [5][0/4]\tBatch Time 0.000 \tBatch Loss 0.6641\tTrain Accuracy0.3359\t\n",
      "Epoch: [5][1/4]\tBatch Time 0.000 \tBatch Loss 0.6953\tTrain Accuracy0.3047\t\n",
      "Epoch: [5][2/4]\tBatch Time 0.000 \tBatch Loss 0.6875\tTrain Accuracy0.3125\t\n",
      "Epoch: [5][3/4]\tBatch Time 0.001 \tBatch Loss 0.8000\tTrain Accuracy0.2000\t\n",
      "Evaluate: [0/2]\tBatch Accuracy0.3359\t\n",
      "Evaluate: [1/2]\tBatch Accuracy0.3158\t\n",
      "* Validation Accuracy: 0.3297\n",
      "Epoch: [6][0/4]\tBatch Time 0.000 \tBatch Loss 0.7422\tTrain Accuracy0.2578\t\n",
      "Epoch: [6][1/4]\tBatch Time 0.000 \tBatch Loss 0.7031\tTrain Accuracy0.2969\t\n",
      "Epoch: [6][2/4]\tBatch Time 0.000 \tBatch Loss 0.6953\tTrain Accuracy0.3047\t\n",
      "Epoch: [6][3/4]\tBatch Time 0.000 \tBatch Loss 0.5333\tTrain Accuracy0.4667\t\n",
      "Evaluate: [0/2]\tBatch Accuracy0.3359\t\n",
      "Evaluate: [1/2]\tBatch Accuracy0.3158\t\n",
      "* Validation Accuracy: 0.3297\n",
      "Epoch: [7][0/4]\tBatch Time 0.000 \tBatch Loss 0.6406\tTrain Accuracy0.3594\t\n",
      "Epoch: [7][1/4]\tBatch Time 0.000 \tBatch Loss 0.7266\tTrain Accuracy0.2734\t\n",
      "Epoch: [7][2/4]\tBatch Time 0.000 \tBatch Loss 0.7109\tTrain Accuracy0.2891\t\n",
      "Epoch: [7][3/4]\tBatch Time 0.000 \tBatch Loss 0.7111\tTrain Accuracy0.2889\t\n",
      "Evaluate: [0/2]\tBatch Accuracy0.3359\t\n",
      "Evaluate: [1/2]\tBatch Accuracy0.3158\t\n",
      "* Validation Accuracy: 0.3297\n",
      "Epoch: [8][0/4]\tBatch Time 0.000 \tBatch Loss 0.6641\tTrain Accuracy0.3359\t\n",
      "Epoch: [8][1/4]\tBatch Time 0.000 \tBatch Loss 0.7344\tTrain Accuracy0.2656\t\n",
      "Epoch: [8][2/4]\tBatch Time 0.000 \tBatch Loss 0.7344\tTrain Accuracy0.2656\t\n",
      "Epoch: [8][3/4]\tBatch Time 0.000 \tBatch Loss 0.5556\tTrain Accuracy0.4444\t\n",
      "Evaluate: [0/2]\tBatch Accuracy0.3359\t\n",
      "Evaluate: [1/2]\tBatch Accuracy0.3158\t\n",
      "* Validation Accuracy: 0.3297\n",
      "Epoch: [9][0/4]\tBatch Time 0.000 \tBatch Loss 0.6953\tTrain Accuracy0.3047\t\n",
      "Epoch: [9][1/4]\tBatch Time 0.000 \tBatch Loss 0.7031\tTrain Accuracy0.2969\t\n",
      "Epoch: [9][2/4]\tBatch Time 0.000 \tBatch Loss 0.6641\tTrain Accuracy0.3359\t\n",
      "Epoch: [9][3/4]\tBatch Time 0.000 \tBatch Loss 0.7556\tTrain Accuracy0.2444\t\n",
      "Evaluate: [0/2]\tBatch Accuracy0.3359\t\n",
      "Evaluate: [1/2]\tBatch Accuracy0.3158\t\n",
      "* Validation Accuracy: 0.3297\n",
      "Evaluate: [0/2]\tBatch Accuracy0.3359\t\n",
      "Evaluate: [1/2]\tBatch Accuracy0.3158\t\n",
      "Final Accuracy on Test Data: 0.3297\n",
      "[tensor(0.3054), tensor(0.3054), tensor(0.3054), tensor(0.3054), tensor(0.3054), tensor(0.3054), tensor(0.3054), tensor(0.3054), tensor(0.3054), tensor(0.3054)]\n",
      "[tensor(0.3297), tensor(0.3297), tensor(0.3297), tensor(0.3297), tensor(0.3297), tensor(0.3297), tensor(0.3297), tensor(0.3297), tensor(0.3297), tensor(0.3297)]\n",
      "[array(0.697309, dtype=float32), array(0.6901042, dtype=float32), array(0.7081163, dtype=float32), array(0.6648872, dtype=float32), array(0.6828993, dtype=float32), array(0.71171874, dtype=float32), array(0.6684896, dtype=float32), array(0.697309, dtype=float32), array(0.672092, dtype=float32), array(0.7045139, dtype=float32)]\n",
      "[array(0.6741365, dtype=float32), array(0.6741365, dtype=float32), array(0.6741365, dtype=float32), array(0.6741365, dtype=float32), array(0.6741365, dtype=float32), array(0.6741365, dtype=float32), array(0.6741365, dtype=float32), array(0.6741365, dtype=float32), array(0.6741365, dtype=float32), array(0.6741365, dtype=float32)]\n"
     ]
    },
    {
     "name": "stderr",
     "output_type": "stream",
     "text": [
      "/var/folders/vv/609pfdw549g221wv1wnwr92h0000gp/T/ipykernel_14077/1667878697.py:24: UserWarning: Matplotlib is currently using module://matplotlib_inline.backend_inline, which is a non-GUI backend, so cannot show the figure.\n",
      "  f.show()\n",
      "/var/folders/vv/609pfdw549g221wv1wnwr92h0000gp/T/ipykernel_14077/1667878697.py:34: UserWarning: Matplotlib is currently using module://matplotlib_inline.backend_inline, which is a non-GUI backend, so cannot show the figure.\n",
      "  g.show()\n"
     ]
    },
    {
     "data": {
      "image/png": "[encoded data removed]",
      "text/plain": [
       "<Figure size 432x288 with 1 Axes>"
      ]
     },
     "metadata": {
      "needs_background": "light"
     },
     "output_type": "display_data"
    },
    {
     "data": {
      "image/png": "[encoded data removed]",
      "text/plain": [
       "<Figure size 432x288 with 1 Axes>"
      ]
     },
     "metadata": {
      "needs_background": "light"
     },
     "output_type": "display_data"
    }
   ],
   "source": [
    "\n",
    "if __name__ == '__main__':\n",
    "    main()"
   ]
  },
  {
   "cell_type": "markdown",
   "id": "9da9d860",
   "metadata": {},
   "source": [
    "# Exp3: Boosting"
   ]
  },
  {
   "cell_type": "code",
   "execution_count": 728,
   "id": "2fed6f79",
   "metadata": {},
   "outputs": [],
   "source": [
    "from sklearn.metrics import classification_report\n",
    "from sklearn.model_selection import KFold\n",
    "from sklearn.ensemble import GradientBoostingClassifier"
   ]
  },
  {
   "cell_type": "code",
   "execution_count": 742,
   "id": "f11e7d8a",
   "metadata": {},
   "outputs": [],
   "source": [
    "y = pd.DataFrame(np.where(Y==\"Y\",1,0))\n",
    "kf = KFold(n_splits=5, random_state=42, shuffle=True)\n",
    "for train_index, val_index in kf.split(X):\n",
    "    X_train, X_val = X.iloc[train_index], X.iloc[val_index],\n",
    "    y_train, y_val = y.iloc[train_index], y.iloc[val_index]"
   ]
  },
  {
   "cell_type": "code",
   "execution_count": 743,
   "id": "45bb5976",
   "metadata": {},
   "outputs": [
    {
     "data": {
      "text/plain": [
       "{'ccp_alpha': 0.0,\n",
       " 'criterion': 'friedman_mse',\n",
       " 'init': None,\n",
       " 'learning_rate': 0.1,\n",
       " 'loss': 'deviance',\n",
       " 'max_depth': 3,\n",
       " 'max_features': None,\n",
       " 'max_leaf_nodes': None,\n",
       " 'min_impurity_decrease': 0.0,\n",
       " 'min_impurity_split': None,\n",
       " 'min_samples_leaf': 1,\n",
       " 'min_samples_split': 2,\n",
       " 'min_weight_fraction_leaf': 0.0,\n",
       " 'n_estimators': 100,\n",
       " 'n_iter_no_change': None,\n",
       " 'random_state': None,\n",
       " 'subsample': 1.0,\n",
       " 'tol': 0.0001,\n",
       " 'validation_fraction': 0.1,\n",
       " 'verbose': 0,\n",
       " 'warm_start': False}"
      ]
     },
     "execution_count": 743,
     "metadata": {},
     "output_type": "execute_result"
    }
   ],
   "source": [
    "gradient_booster = GradientBoostingClassifier(learning_rate=0.1)\n",
    "gradient_booster.get_params()"
   ]
  },
  {
   "cell_type": "code",
   "execution_count": 745,
   "id": "d6fd2792",
   "metadata": {},
   "outputs": [
    {
     "name": "stdout",
     "output_type": "stream",
     "text": [
      "              precision    recall  f1-score   support\n",
      "\n",
      "           0       0.65      0.36      0.46        36\n",
      "           1       0.77      0.92      0.84        86\n",
      "\n",
      "    accuracy                           0.75       122\n",
      "   macro avg       0.71      0.64      0.65       122\n",
      "weighted avg       0.74      0.75      0.73       122\n",
      "\n"
     ]
    },
    {
     "name": "stderr",
     "output_type": "stream",
     "text": [
      "/Users/shangwenhuang/opt/anaconda3/lib/python3.8/site-packages/sklearn/utils/validation.py:63: DataConversionWarning: A column-vector y was passed when a 1d array was expected. Please change the shape of y to (n_samples, ), for example using ravel().\n",
      "  return f(*args, **kwargs)\n"
     ]
    }
   ],
   "source": [
    "gradient_booster.fit(X_train, y_train)\n",
    "print(classification_report(y_val, gradient_booster.predict(X_val)))"
   ]
  },
  {
   "cell_type": "markdown",
   "id": "d7e6a8a7",
   "metadata": {},
   "source": [
    "# Exp4: Support Vector Machine"
   ]
  },
  {
   "cell_type": "code",
   "execution_count": 748,
   "id": "ba50bdef",
   "metadata": {},
   "outputs": [],
   "source": [
    "from sklearn.svm import SVC\n",
    "from sklearn.metrics import accuracy_score"
   ]
  },
  {
   "cell_type": "code",
   "execution_count": 747,
   "id": "c8601116",
   "metadata": {},
   "outputs": [],
   "source": [
    "y = np.where(Y==\"Y\", 1, 0)\n",
    "X_train, X_test, y_train, y_test = train_test_split(X, y, test_size = 0.3, random_state = 1)"
   ]
  },
  {
   "cell_type": "code",
   "execution_count": 749,
   "id": "2088d548",
   "metadata": {},
   "outputs": [
    {
     "name": "stdout",
     "output_type": "stream",
     "text": [
      "0.7135135135135136\n"
     ]
    }
   ],
   "source": [
    "clf = SVC(kernel='linear')\n",
    "clf.fit(X_train, y_train)\n",
    "y_pred = clf.predict(X_test)\n",
    "print(accuracy_score(y_test, y_pred))"
   ]
  },
  {
   "cell_type": "markdown",
   "id": "24c106e2",
   "metadata": {},
   "source": [
    "# Exp5: KNN"
   ]
  },
  {
   "cell_type": "code",
   "execution_count": 750,
   "id": "62d0ac01",
   "metadata": {},
   "outputs": [],
   "source": [
    "from sklearn import preprocessing\n",
    "from sklearn.neighbors import KNeighborsClassifier\n",
    "from sklearn.model_selection import train_test_split\n",
    "from sklearn import metrics"
   ]
  },
  {
   "cell_type": "code",
   "execution_count": 751,
   "id": "56742032",
   "metadata": {},
   "outputs": [],
   "source": [
    "X = preprocessing.StandardScaler().fit(X).transform(X.astype(float))\n",
    "y = np.where(Y==\"Y\", 1, 0)\n",
    "X_train, X_test, y_train, y_test = train_test_split(X, y, test_size = 0.3, random_state = 1)"
   ]
  },
  {
   "cell_type": "code",
   "execution_count": 752,
   "id": "7f18b9be",
   "metadata": {},
   "outputs": [
    {
     "name": "stdout",
     "output_type": "stream",
     "text": [
      "Accuracy of model at K=4 0.654054054054054\n"
     ]
    }
   ],
   "source": [
    "k = 4\n",
    "neigh = KNeighborsClassifier(n_neighbors = k).fit(X_train, y_train)\n",
    "Pred_y = neigh.predict(X_test)\n",
    "print(\"Accuracy of model at K=4\", metrics.accuracy_score(y_test, Pred_y))"
   ]
  },
  {
   "cell_type": "code",
   "execution_count": 753,
   "id": "58c79945",
   "metadata": {},
   "outputs": [
    {
     "name": "stdout",
     "output_type": "stream",
     "text": [
      "Minimum error:- 0.2756756756756757 at K = 8\n"
     ]
    },
    {
     "data": {
      "image/png": "[encoded data removed]",
      "text/plain": [
       "<Figure size 720x432 with 1 Axes>"
      ]
     },
     "metadata": {
      "needs_background": "light"
     },
     "output_type": "display_data"
    }
   ],
   "source": [
    "error_rate = []\n",
    "for i in range(1,40):\n",
    "    knn = KNeighborsClassifier(n_neighbors=i)\n",
    "    knn.fit(X_train, y_train)\n",
    "    pred_i = knn.predict(X_test)\n",
    "    error_rate.append(np.mean(pred_i != y_test))\n",
    "    \n",
    "plt.figure(figsize=(10,6))\n",
    "plt.plot(range(1,40),error_rate,color='blue', linestyle='dashed', \n",
    "         marker='o',markerfacecolor='red', markersize=10)\n",
    "plt.title('Error Rate vs. K Value')\n",
    "plt.xlabel('K')\n",
    "plt.ylabel('Error Rate')\n",
    "print(\"Minimum error:-\",min(error_rate),\"at K =\",error_rate.index(min(error_rate)))"
   ]
  },
  {
   "cell_type": "code",
   "execution_count": 754,
   "id": "68fccead",
   "metadata": {},
   "outputs": [
    {
     "name": "stdout",
     "output_type": "stream",
     "text": [
      "Maximum accuracy:- 0.7243243243243244 at K = 8\n"
     ]
    },
    {
     "data": {
      "image/png": "[encoded data removed]",
      "text/plain": [
       "<Figure size 720x432 with 1 Axes>"
      ]
     },
     "metadata": {
      "needs_background": "light"
     },
     "output_type": "display_data"
    }
   ],
   "source": [
    "acc = []\n",
    "# Will take some time\n",
    "from sklearn import metrics\n",
    "for i in range(1,40):\n",
    "    neigh = KNeighborsClassifier(n_neighbors = i).fit(X_train,y_train)\n",
    "    yhat = neigh.predict(X_test)\n",
    "    acc.append(metrics.accuracy_score(y_test, yhat))\n",
    "    \n",
    "plt.figure(figsize=(10,6))\n",
    "plt.plot(range(1,40),acc,color = 'blue',linestyle='dashed', \n",
    "         marker='o',markerfacecolor='red', markersize=10)\n",
    "plt.title('accuracy vs. K Value')\n",
    "plt.xlabel('K')\n",
    "plt.ylabel('Accuracy')\n",
    "print(\"Maximum accuracy:-\",max(acc),\"at K =\",acc.index(max(acc)))"
   ]
  },
  {
   "cell_type": "code",
   "execution_count": 770,
   "id": "7758e676",
   "metadata": {},
   "outputs": [
    {
     "ename": "AttributeError",
     "evalue": "'list' object has no attribute 'shape'",
     "output_type": "error",
     "traceback": [
      "\u001b[0;31m---------------------------------------------------------------------------\u001b[0m",
      "\u001b[0;31mAttributeError\u001b[0m                            Traceback (most recent call last)",
      "Input \u001b[0;32mIn [770]\u001b[0m, in \u001b[0;36m<cell line: 1>\u001b[0;34m()\u001b[0m\n\u001b[0;32m----> 1\u001b[0m \u001b[43m[\u001b[49m\u001b[38;5;241;43m1\u001b[39;49m\u001b[43m,\u001b[49m\u001b[38;5;241;43m2\u001b[39;49m\u001b[43m,\u001b[49m\u001b[38;5;241;43m3\u001b[39;49m\u001b[43m,\u001b[49m\u001b[38;5;241;43m4\u001b[39;49m\u001b[43m]\u001b[49m\u001b[38;5;241;43m.\u001b[39;49m\u001b[43mshape\u001b[49m\n",
      "\u001b[0;31mAttributeError\u001b[0m: 'list' object has no attribute 'shape'"
     ]
    }
   ],
   "source": [
    "\n"
   ]
  },
  {
   "cell_type": "code",
   "execution_count": null,
   "id": "6620d31e",
   "metadata": {},
   "outputs": [],
   "source": []
  }
 ],
 "metadata": {
  "kernelspec": {
   "display_name": "Python 3 (ipykernel)",
   "language": "python",
   "name": "python3"
  },
  "language_info": {
   "codemirror_mode": {
    "name": "ipython",
    "version": 3
   },
   "file_extension": ".py",
   "mimetype": "text/x-python",
   "name": "python",
   "nbconvert_exporter": "python",
   "pygments_lexer": "ipython3",
   "version": "3.8.8"
  }
 },
 "nbformat": 4,
 "nbformat_minor": 5
}
